{
 "cells": [
  {
   "cell_type": "markdown",
   "metadata": {},
   "source": [
    "# Time the performance of a Python Object"
   ]
  },
  {
   "cell_type": "code",
   "execution_count": 1,
   "metadata": {},
   "outputs": [],
   "source": [
    "import timeit\n",
    "\n",
    "import numpy as np\n",
    "\n",
    "from timeit import Timer"
   ]
  },
  {
   "cell_type": "markdown",
   "metadata": {},
   "source": [
    "## Time list filling"
   ]
  },
  {
   "cell_type": "code",
   "execution_count": 2,
   "metadata": {},
   "outputs": [],
   "source": [
    "#concat\n",
    "def test1():\n",
    "    l = []\n",
    "    for i in range(10000):\n",
    "        l = l + [i]\n",
    "\n",
    "#append\n",
    "def test2():\n",
    "    l = []\n",
    "    #Add a new element with append\n",
    "    for i in range(10000):\n",
    "        l.append(i)\n",
    "\n",
    "#comprehension\n",
    "def test3():\n",
    "    #Use bracket that contains elements\n",
    "    l = [i for i in range(10000)]\n",
    "    \n",
    "#list range\n",
    "def test4():\n",
    "    #Use list method\n",
    "    l = list(range(10000))\n",
    "    \n",
    "expSize = 100\n",
    "        "
   ]
  },
  {
   "cell_type": "code",
   "execution_count": 3,
   "metadata": {},
   "outputs": [
    {
     "name": "stdout",
     "output_type": "stream",
     "text": [
      "concat  25.208993583999998 milliseconds\n",
      "append  0.13781585199999924 milliseconds\n",
      "comprehension  0.08480268199999941 milliseconds\n",
      "list range  0.024738168999999033 milliseconds\n",
      "\n",
      " Worse vs. best ratio 1019.0323133454616 \n",
      "\n"
     ]
    }
   ],
   "source": [
    "t1 = Timer(\"test1()\", \"from __main__ import test1\")\n",
    "st1 = t1.timeit(number=expSize)\n",
    "print(\"concat \",st1, \"milliseconds\")\n",
    "t2 = Timer(\"test2()\", \"from __main__ import test2\")\n",
    "print(\"append \",t2.timeit(number=expSize), \"milliseconds\")\n",
    "t3 = Timer(\"test3()\", \"from __main__ import test3\")\n",
    "print(\"comprehension \",t3.timeit(number=expSize), \"milliseconds\")\n",
    "t4 = Timer(\"test4()\", \"from __main__ import test4\")\n",
    "st4 = t4.timeit(number=expSize)\n",
    "print(\"list range \",st4, \"milliseconds\")\n",
    "\n",
    "print ('\\n Worse vs. best ratio', st1/st4, '\\n')"
   ]
  },
  {
   "cell_type": "code",
   "execution_count": 4,
   "metadata": {},
   "outputs": [
    {
     "data": {
      "text/plain": [
       "Text(0.5, 1.0, 'Time of Methods')"
      ]
     },
     "execution_count": 4,
     "metadata": {},
     "output_type": "execute_result"
    },
    {
     "data": {
      "image/png": "[encoded data removed]",
      "text/plain": [
       "<Figure size 720x720 with 1 Axes>"
      ]
     },
     "metadata": {
      "needs_background": "light"
     },
     "output_type": "display_data"
    }
   ],
   "source": [
    "import matplotlib.pyplot as plt\n",
    "\n",
    "fig, ax = plt.subplots(nrows=1, ncols=1, figsize=(10, 10))\n",
    "\n",
    "time = [22.19,0.11,0.05,0.023]\n",
    "method = ['concat', 'append', 'comprehension', 'list range']\n",
    "\n",
    "ax.bar(method, time)\n",
    "\n",
    "ax.set_xlabel('Method',fontsize=16)\n",
    "ax.set_ylabel('Time (ms)', fontsize=16)\n",
    "ax.set_title('Time of Methods', fontsize = 20)"
   ]
  },
  {
   "cell_type": "markdown",
   "metadata": {},
   "source": [
    "## Pop-front vs. pop-end"
   ]
  },
  {
   "cell_type": "code",
   "execution_count": 5,
   "metadata": {},
   "outputs": [
    {
     "name": "stdout",
     "output_type": "stream",
     "text": [
      "Popping the first element takes 0.24867004100000045 milliseconds\n",
      "Popping the last element takes 1.2170000001532344e-05 milliseconds\n",
      "The ratio between 2 methods is 20433.035412382087\n"
     ]
    }
   ],
   "source": [
    "#Pop the first element of a list\n",
    "pop_zero = Timer(\"x.pop(0)\",\n",
    "                'from __main__ import x')\n",
    "\n",
    "#Pop the last element of a list\n",
    "pop_end = Timer('x.pop()',\n",
    "                'from __main__ import x')\n",
    "\n",
    "#Number of experiments\n",
    "expSize = 100\n",
    "\n",
    "#Define the array\n",
    "x = list(range(2000000))\n",
    "\n",
    "#Time the average results of 100 experiments\n",
    "t_zero = pop_zero.timeit(number=expSize)\n",
    "t_end=pop_end.timeit(number=expSize)\n",
    "\n",
    "#Find the ratio between 2 methods\n",
    "print(\"Popping the first element takes {} milliseconds\".format(t_zero))\n",
    "print(\"Popping the last element takes {} milliseconds\".format(t_end))\n",
    "print(\"The ratio between 2 methods is {}\".format(t_zero/t_end))\n",
    "\n"
   ]
  },
  {
   "cell_type": "code",
   "execution_count": 6,
   "metadata": {},
   "outputs": [],
   "source": [
    "#Pop the first element of a list\n",
    "pop_zero = Timer(\"x.pop(0)\",\n",
    "                'from __main__ import x')\n",
    "\n",
    "#Pop the last element of a list\n",
    "pop_end = Timer('x.pop()',\n",
    "                'from __main__ import x')\n",
    "\n",
    "#Number of experiments\n",
    "expSize = 100\n",
    "result = []\n",
    "\n",
    "for i in range(10000,1000001,20000):\n",
    "    \n",
    "    #Define the array\n",
    "    x = list(range(i))\n",
    "    \n",
    "    #Time the average results of 1000 experiments for each method\n",
    "    pt = pop_end.timeit(number=expSize)\n",
    "    pz = pop_zero.timeit(number=expSize)\n",
    "    \n",
    "    result.append((i,pz,pt))"
   ]
  },
  {
   "cell_type": "code",
   "execution_count": 7,
   "metadata": {},
   "outputs": [
    {
     "data": {
      "image/png": "[encoded data removed]",
      "text/plain": [
       "<Figure size 432x288 with 1 Axes>"
      ]
     },
     "metadata": {
      "needs_background": "light"
     },
     "output_type": "display_data"
    }
   ],
   "source": [
    "import numpy as np\n",
    "matrixDat = np.array( result )\n",
    "import matplotlib.pyplot as plt\n",
    "plt.plot(matrixDat[:,0], matrixDat[:,1], 'o', color='red',label='pop_zero');\n",
    "plt.plot(matrixDat[:,0], matrixDat[:,2], '+', color='blue',label='pop_end');\n",
    "leg = plt.legend(numpoints=1)\n"
   ]
  },
  {
   "cell_type": "markdown",
   "metadata": {},
   "source": [
    "## Comparing List and Set"
   ]
  },
  {
   "cell_type": "code",
   "execution_count": 8,
   "metadata": {},
   "outputs": [],
   "source": [
    "import random\n",
    "result = []\n",
    "\n",
    "expSize = 100\n",
    "\n",
    "for i in range(10000,1000001,20000):\n",
    "\n",
    "    t = timeit.Timer('random.randrange(%d) in x' % i,\n",
    "                'from __main__ import random, x')\n",
    "\n",
    "    #Define list\n",
    "    x = list(range(i))\n",
    "\n",
    "    #time of list\n",
    "    lt = t.timeit(number = expSize)\n",
    "\n",
    "    #Define dict\n",
    "    x = {j: None for j in range(i)}\n",
    "\n",
    "    #time of dcit\n",
    "    dt = t.timeit(number = expSize)\n",
    "\n",
    "    result.append((i, lt, dt))\n",
    "\n",
    "\n"
   ]
  },
  {
   "cell_type": "code",
   "execution_count": 9,
   "metadata": {},
   "outputs": [
    {
     "data": {
      "image/png": "[encoded data removed]",
      "text/plain": [
       "<Figure size 432x288 with 1 Axes>"
      ]
     },
     "metadata": {
      "needs_background": "light"
     },
     "output_type": "display_data"
    }
   ],
   "source": [
    "import numpy as np\n",
    "import matplotlib.pyplot as plt\n",
    "\n",
    "matrixDat = np.array( result )\n",
    "plt.plot(matrixDat[:,0], matrixDat[:,1], 'o', color='red',label='list');\n",
    "plt.plot(matrixDat[:,0], matrixDat[:,2], '+', color='blue',label='dict');\n",
    "\n",
    "leg = plt.legend(numpoints=1)"
   ]
  }
 ],
 "metadata": {
  "kernelspec": {
   "display_name": "Python 3",
   "language": "python",
   "name": "python3"
  },
  "language_info": {
   "codemirror_mode": {
    "name": "ipython",
    "version": 3
   },
   "file_extension": ".py",
   "mimetype": "text/x-python",
   "name": "python",
   "nbconvert_exporter": "python",
   "pygments_lexer": "ipython3",
   "version": "3.7.6"
  }
 },
 "nbformat": 4,
 "nbformat_minor": 4
}
